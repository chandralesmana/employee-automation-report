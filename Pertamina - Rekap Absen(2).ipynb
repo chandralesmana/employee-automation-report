{
 "cells": [
  {
   "cell_type": "markdown",
   "metadata": {},
   "source": [
    "# Data Absen TKJP Mandays dan Volume"
   ]
  },
  {
   "cell_type": "code",
   "execution_count": 1,
   "metadata": {},
   "outputs": [],
   "source": [
    "tanggal = \"15\"\n",
    "bulan = \"08\"\n",
    "bulan_ = \"Agustus\""
   ]
  },
  {
   "cell_type": "code",
   "execution_count": 2,
   "metadata": {},
   "outputs": [],
   "source": [
    "import pandas as pd\n",
    "\n",
    "data_file = \"D:/Pertamina/Rekap Absen TKJP/\"+bulan_+\"/\"+tanggal+\"-\"+bulan+\"-2021/\"+tanggal+\"-\"+bulan+\"-2021.xlsx\"\n",
    "data_file_ap = \"D:/Pertamina/Rekap Absen TKJP/\"+bulan_+\"/\"+tanggal+\"-\"+bulan+\"-2021/\"+tanggal+\"-\"+bulan+\"-2021_ap.xlsx\"\n",
    "data_export = \"D:/Pertamina/Rekap Absen TKJP/\"+bulan_+\"/\"+tanggal+\"-\"+bulan+\"-2021/Report \"+tanggal+\" \"+bulan_+\" 2021.xlsx\"\n",
    "data_export_ap = \"D:/Pertamina/Rekap Absen TKJP/\"+bulan_+\"/\"+tanggal+\"-\"+bulan+\"-2021/Report TKJP Pertamina Group \"+tanggal+\" \"+bulan_+\" 2021.xlsx\""
   ]
  },
  {
   "cell_type": "code",
   "execution_count": 3,
   "metadata": {},
   "outputs": [],
   "source": [
    "df = pd.read_excel(data_file,index_col='Waktu_Mulai')\n",
    "df.head()\n",
    "\n",
    "df1=df.loc[df['IsTKJP_Volume'].isin([False])]"
   ]
  },
  {
   "cell_type": "code",
   "execution_count": 4,
   "metadata": {},
   "outputs": [],
   "source": [
    "df1.index = pd.DatetimeIndex(df1.index)\n",
    "\n",
    "fil = df1.between_time('0:0','10:30')"
   ]
  },
  {
   "cell_type": "markdown",
   "metadata": {},
   "source": [
    "# Data Rekap Absen TKJP AP\n",
    "\n"
   ]
  },
  {
   "cell_type": "code",
   "execution_count": 5,
   "metadata": {},
   "outputs": [],
   "source": [
    "df_ap = pd.read_excel(data_file_ap)"
   ]
  },
  {
   "cell_type": "code",
   "execution_count": 6,
   "metadata": {},
   "outputs": [],
   "source": [
    "df_ap=df_ap.loc[df_ap['TKJP'].isin([True])]\n",
    "\n",
    "with pd.ExcelWriter(data_export_ap) as writer:\n",
    "    df_ap.to_excel(writer, sheet_name='Data')\n",
    "    #lala.to_excel(writer,sheet_name='Rekap')\n",
    "    "
   ]
  },
  {
   "cell_type": "markdown",
   "metadata": {},
   "source": [
    "# Sort Ada keluhan dan Anak Perusahaan\n",
    "\n"
   ]
  },
  {
   "cell_type": "code",
   "execution_count": 7,
   "metadata": {},
   "outputs": [],
   "source": [
    "dat = fil.sort_values(by='Keluhan_Kesehatan',ascending=False)"
   ]
  },
  {
   "cell_type": "code",
   "execution_count": 8,
   "metadata": {},
   "outputs": [],
   "source": [
    "ap = fil[fil['Lokasi_Kerja/Unit'] == 'Anak Perusahaan']\n",
    "\n",
    "# Replace Anak Perusahaan"
   ]
  },
  {
   "cell_type": "code",
   "execution_count": 9,
   "metadata": {},
   "outputs": [],
   "source": [
    "bla = dat.replace(to_replace =\"Anak Perusahaan\", \n",
    "                 value =\"Gedung Utama - KP\") \n",
    "\n",
    "# Pivot"
   ]
  },
  {
   "cell_type": "code",
   "execution_count": 10,
   "metadata": {},
   "outputs": [],
   "source": [
    "import numpy as np\n",
    "\n",
    "pivot = pd.pivot_table(bla, values='Nama_Lengkap', index=['Lokasi_Kerja/Unit'],\n",
    "                      columns=['Sistem_Kerja'], aggfunc=np.count_nonzero, margins=True)\n",
    "pivot = pivot.fillna(\"0\") "
   ]
  },
  {
   "cell_type": "code",
   "execution_count": 11,
   "metadata": {},
   "outputs": [],
   "source": [
    "pivot2 = pd.pivot_table(bla, index=['Lokasi_Kerja/Unit'],values='Nama_Lengkap',\n",
    "                      columns=['Keluhan_Kesehatan'], aggfunc=np.count_nonzero, margins=True)\n",
    "pivot2 = pivot2.drop(['All'], axis=1)\n",
    "pivot2 = pivot2.fillna(\"0\") \n",
    "\n"
   ]
  },
  {
   "cell_type": "markdown",
   "metadata": {},
   "source": [
    "#  Export To XLSX"
   ]
  },
  {
   "cell_type": "code",
   "execution_count": 12,
   "metadata": {},
   "outputs": [],
   "source": [
    "with pd.ExcelWriter(data_export) as writer:\n",
    "    fil.to_excel(writer, sheet_name='Mandays')\n",
    "    dat.to_excel(writer, sheet_name='RAW Data')\n",
    "    ap.to_excel(writer, sheet_name='Sheet1')\n",
    "    pivot.to_excel(writer, sheet_name='PIVOT')\n",
    "    pivot2.to_excel(writer, sheet_name='PIVOT')\n",
    "    #lala.to_excel(writer,sheet_name='Rekap')\n",
    "    \n",
    "\n"
   ]
  }
 ],
 "metadata": {
  "kernelspec": {
   "display_name": "Python 3",
   "language": "python",
   "name": "python3"
  },
  "language_info": {
   "codemirror_mode": {
    "name": "ipython",
    "version": 3
   },
   "file_extension": ".py",
   "mimetype": "text/x-python",
   "name": "python",
   "nbconvert_exporter": "python",
   "pygments_lexer": "ipython3",
   "version": "3.8.5"
  }
 },
 "nbformat": 4,
 "nbformat_minor": 4
}
